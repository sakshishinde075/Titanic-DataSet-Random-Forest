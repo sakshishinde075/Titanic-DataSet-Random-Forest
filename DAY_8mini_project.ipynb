{
  "nbformat": 4,
  "nbformat_minor": 0,
  "metadata": {
    "colab": {
      "provenance": []
    },
    "kernelspec": {
      "name": "python3",
      "display_name": "Python 3"
    },
    "language_info": {
      "name": "python"
    }
  },
  "cells": [
    {
      "cell_type": "code",
      "execution_count": null,
      "metadata": {
        "id": "wWZbo9tkLiIs",
        "colab": {
          "base_uri": "https://localhost:8080/"
        },
        "outputId": "3d31b6fe-3c14-4004-d7bf-5358cf7f7f67"
      },
      "outputs": [
        {
          "output_type": "stream",
          "name": "stdout",
          "text": [
            "Accuracy: 0.89\n",
            "Classification Report:\n",
            "              precision    recall  f1-score   support\n",
            "\n",
            "           0       0.94      0.93      0.94       201\n",
            "           1       0.53      0.57      0.55        28\n",
            "\n",
            "    accuracy                           0.89       229\n",
            "   macro avg       0.74      0.75      0.74       229\n",
            "weighted avg       0.89      0.89      0.89       229\n",
            "\n"
          ]
        }
      ],
      "source": [
        "import pandas as pd #Decission tree (Classification)\n",
        "from sklearn.model_selection import train_test_split\n",
        "from sklearn.tree import DecisionTreeClassifier\n",
        "from sklearn.metrics import accuracy_score,classification_report\n",
        "from sklearn.preprocessing import StandardScaler\n",
        "import numpy as np\n",
        "\n",
        "wine_data = pd.read_csv('WineQT.csv')\n",
        "X=wine_data[['fixed acidity','volatile acidity','citric acid','residual sugar']]\n",
        "y=wine_data['quality']\n",
        "y=y.map(lambda x:1 if x>=7 else 0)\n",
        "\n",
        "X_train,X_test,y_train,y_test=train_test_split(X,y,test_size=0.2,random_state=42)\n",
        "\n",
        "scaler=StandardScaler()\n",
        "X_train_scaled=scaler.fit_transform(X_train)\n",
        "X_test_scaled=scaler.transform(X_test)\n",
        "clf=DecisionTreeClassifier(random_state=42)\n",
        "clf.fit(X_train_scaled,y_train)\n",
        "\n",
        "y_pred=clf.predict(X_test_scaled)\n",
        "\n",
        "accuracy=accuracy_score(y_test,y_pred)\n",
        "print(f\"Accuracy: {accuracy:.2f}\")\n",
        "print(\"Classification Report:\")\n",
        "print(classification_report(y_test,y_pred))\n",
        "\n",
        "def predict_wine_quality():\n",
        "  fixed_acidity=float(input(\"Enter volatile acidic:\"))\n",
        "  citric_acid=float(input(\"Enter citric acid:\"))\n",
        "  residual_sugar=float(input(\"Enter residual sugar:\"))\n",
        "\n",
        "  user_input=np.array([[fixed_acidity,volatile_acidity,citric_acid,residual_sugar]])\n",
        "  user_input_scaled=scaler.transform(user_input)\n",
        "\n",
        "  prediction=clf.predict(user_input_scaled)\n",
        "  quality=\"Good\" if prediction[0]==1 else \"Bad\"\n",
        "  print(f\"Predicted wine quality:{quality}\")\n",
        "\n",
        "  predict_wine_quality()"
      ]
    },
    {
      "cell_type": "markdown",
      "source": [],
      "metadata": {
        "id": "jSQQvf2YUuxH"
      }
    },
    {
      "cell_type": "code",
      "source": [
        "#TITANIC SURVIVAL PREDECTION\n",
        "#Random forest\n",
        "import pandas as pd\n",
        "import numpy as np\n",
        "import matplotlib.pyplot as plt\n",
        "from sklearn.model_selection import train_test_split\n",
        "from sklearn.ensemble import RandomForestClassifier\n",
        "from sklearn.metrics import accuracy_score,classification_report\n",
        "import warnings\n",
        "warnings.filterwarnings('ignore')\n",
        "\n",
        "titanic_data=pd.read_csv(Titanic-Dataset.csv)\n",
        "titanic_data=titanic_data.dropna(subset=['Survived'])\n",
        "X=titanic_data\n",
        "y=titanic_data['Survived']\n",
        "\n",
        "X.loc[:,'Sex']=X['Sex'].map({'female':0,'male':1})\n",
        "X.loc[:,'Age'].fillna(X['Age'].median(),inplace=True)\n",
        "\n",
        "X_train,X_test,y_train,y_test=train_test_split(X,y,test_size=0.2,random_state=42)\n",
        "\n",
        "rf_classifier=RandomForestClassifier(n_estimators=100,random)\n"
      ],
      "metadata": {
        "id": "72XRuc3wggk1",
        "colab": {
          "base_uri": "https://localhost:8080/",
          "height": 176
        },
        "outputId": "566cc087-f2e2-4da6-d3ff-a879c74149fe"
      },
      "execution_count": null,
      "outputs": [
        {
          "output_type": "error",
          "ename": "NameError",
          "evalue": "name 'Titanic' is not defined",
          "traceback": [
            "\u001b[0;31m---------------------------------------------------------------------------\u001b[0m",
            "\u001b[0;31mNameError\u001b[0m                                 Traceback (most recent call last)",
            "\u001b[0;32m<ipython-input-11-943dc1c25c11>\u001b[0m in \u001b[0;36m<cell line: 0>\u001b[0;34m()\u001b[0m\n\u001b[1;32m     10\u001b[0m \u001b[0mwarnings\u001b[0m\u001b[0;34m.\u001b[0m\u001b[0mfilterwarnings\u001b[0m\u001b[0;34m(\u001b[0m\u001b[0;34m'ignore'\u001b[0m\u001b[0;34m)\u001b[0m\u001b[0;34m\u001b[0m\u001b[0;34m\u001b[0m\u001b[0m\n\u001b[1;32m     11\u001b[0m \u001b[0;34m\u001b[0m\u001b[0m\n\u001b[0;32m---> 12\u001b[0;31m \u001b[0mtitanic_data\u001b[0m\u001b[0;34m=\u001b[0m\u001b[0mpd\u001b[0m\u001b[0;34m.\u001b[0m\u001b[0mread_csv\u001b[0m\u001b[0;34m(\u001b[0m\u001b[0mTitanic\u001b[0m\u001b[0;34m-\u001b[0m\u001b[0mDataset\u001b[0m\u001b[0;34m.\u001b[0m\u001b[0mcsv\u001b[0m\u001b[0;34m)\u001b[0m\u001b[0;34m\u001b[0m\u001b[0;34m\u001b[0m\u001b[0m\n\u001b[0m",
            "\u001b[0;31mNameError\u001b[0m: name 'Titanic' is not defined"
          ]
        }
      ]
    },
    {
      "cell_type": "code",
      "source": [
        "# TITANIC SURVIVAL PREDICTION\n",
        "# Random forest\n",
        "import pandas as pd\n",
        "import numpy as np\n",
        "import matplotlib.pyplot as plt\n",
        "from sklearn.model_selection import train_test_split\n",
        "from sklearn.ensemble import RandomForestClassifier\n",
        "from sklearn.metrics import accuracy_score, classification_report\n",
        "import warnings\n",
        "warnings.filterwarnings('ignore')\n",
        "\n",
        "# Load the dataset\n",
        "titanic_data = pd.read_csv('Titanic-Dataset.csv')\n",
        "\n",
        "# Drop rows with missing target values\n",
        "titanic_data = titanic_data.dropna(subset=['Survived'])\n",
        "\n",
        "# Features and target variable\n",
        "X = titanic_data.drop(['Survived', 'Name', 'Ticket', 'Cabin'], axis=1)  # Drop unused columns\n",
        "y = titanic_data['Survived']\n",
        "\n",
        "# Convert categorical variables to numerical\n",
        "X['Sex'] = X['Sex'].map({'female': 0, 'male': 1})\n",
        "X['Embarked'] = X['Embarked'].map({'C': 0, 'Q': 1, 'S': 2})\n",
        "X['Embarked'].fillna(X['Embarked'].mode()[0], inplace=True)  # Fill missing values in 'Embarked'\n",
        "\n",
        "# Fill missing values in 'Age' with the median\n",
        "X['Age'].fillna(X['Age'].median(), inplace=True)\n",
        "\n",
        "# Split the data into training and testing sets\n",
        "X_train, X_test, y_train, y_test = train_test_split(X, y, test_size=0.2, random_state=42)\n",
        "\n",
        "# Initialize and train the Random Forest classifier\n",
        "rf_classifier = RandomForestClassifier(n_estimators=100, random_state=42)\n",
        "rf_classifier.fit(X_train, y_train)\n",
        "\n",
        "# Make predictions\n",
        "y_pred = rf_classifier.predict(X_test)\n",
        "\n",
        "# Evaluate the model\n",
        "accuracy = accuracy_score(y_test, y_pred)\n",
        "classification_rep = classification_report(y_test, y_pred)\n",
        "\n",
        "print(f\"Accuracy: {accuracy:.2f}\")\n",
        "print(\"Classification Report:\")\n",
        "print(classification_rep)\n"
      ],
      "metadata": {
        "id": "VsIUThz1ssaO",
        "colab": {
          "base_uri": "https://localhost:8080/"
        },
        "outputId": "daa5015c-c5c2-48b0-bf78-964c3a777e27"
      },
      "execution_count": null,
      "outputs": [
        {
          "output_type": "stream",
          "name": "stdout",
          "text": [
            "Accuracy: 0.83\n",
            "Classification Report:\n",
            "              precision    recall  f1-score   support\n",
            "\n",
            "           0       0.83      0.89      0.86       105\n",
            "           1       0.82      0.74      0.78        74\n",
            "\n",
            "    accuracy                           0.83       179\n",
            "   macro avg       0.83      0.81      0.82       179\n",
            "weighted avg       0.83      0.83      0.83       179\n",
            "\n"
          ]
        }
      ]
    },
    {
      "cell_type": "code",
      "source": [],
      "metadata": {
        "id": "ZeIeaLCrvkne"
      },
      "execution_count": null,
      "outputs": []
    }
  ]
}